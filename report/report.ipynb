{
 "cells": [
  {
   "cell_type": "markdown",
   "id": "a5b3bc0e-b993-4ee3-bd07-825a474bd0d9",
   "metadata": {
    "tags": []
   },
   "source": [
    "# Pet Box Subscription Analysis\n",
    "\n",
    "## Background\n",
    "\n",
    "PetMind is a retailer of products for pets. They are based in the United States.\n",
    "\n",
    "PetMind sells products that are a mix of luxury items and everyday items. Luxury items include\n",
    "toys. Everyday items include food.\n",
    "\n",
    "The company wants to increase sales by selling more everyday products repeatedly.\n",
    "\n",
    "They have been testing this approach for the last year.\n",
    "\n",
    "They now want a report on how repeat purchases impact sales.\n"
   ]
  },
  {
   "cell_type": "markdown",
   "id": "0206178c",
   "metadata": {},
   "source": [
    "## Data\n",
    "\n",
    "The dataset contains the sales records in the stores last year."
   ]
  },
  {
   "cell_type": "markdown",
   "id": "690c30a2",
   "metadata": {},
   "source": [
    "## Tasks\n",
    "\n",
    "1. For every column in the data:\n",
    "    a. State whether the values match the description given in the table above.\n",
    "    b. State the number of missing values in the column.\n",
    "    c. Describe what you did to make values match the description if they did not\n",
    "match.\n",
    "2. Create a visualization that shows how many products are repeat purchases. Use the\n",
    "visualization to:\n",
    "    a. State which category has the most observations\n",
    "    b. Explain whether the observations are balanced across categories\n",
    "3. Describe the distribution of all of the sales. Your answer must include a visualization\n",
    "that shows the distribution.\n",
    "4. Describe the relationship between repeat purchases and sales. Your answer must\n",
    "include a visualization to demonstrate the relationship.\n"
   ]
  },
  {
   "cell_type": "markdown",
   "id": "714a7083-7a43-4b0b-8ed4-2675efc87691",
   "metadata": {
    "tags": []
   },
   "source": [
    "# Data Validation\n",
    "\n",
    "The original data is 1500 rows and 8 columns. \n",
    "\n",
    "I switched the data types in the price to a numeric and in the rating to an integer, and changed the value in size to standardized Small, Medium, and Large.\n",
    "\n",
    "I also replaced:\n",
    "- 150 missing values in price with the overall median price\n",
    "- 150 missing values in rating with 0\n",
    "- 25 missing values in the category with 'Unknown'\n",
    "\n",
    "Looking at the remaining columns:\n",
    "\n",
    "1. Product ID unique nominal values, as expected\n",
    "2. There were 6 categories of the product, and 'Unknown', as expected\n",
    "3. There were 4 animal types, as expected\n",
    "4. There were 3 sizes of animal the product is for, as expected\n",
    "5. Price continuouse, positive values as expected\n",
    "6. Sales continuouse, positive values as expected\n",
    "7. Rating discrete value in range from 0 to 10 as expected\n",
    "8. Repeat_purchase nominal value 1 or 0 as expected"
   ]
  },
  {
   "cell_type": "markdown",
   "id": "643d4c36-4183-4fbe-a263-6b9de60d29da",
   "metadata": {},
   "source": [
    "## How many products are repeat purchases?"
   ]
  },
  {
   "cell_type": "markdown",
   "id": "1d5ba38c-1b3a-4f9b-bf38-bb0a62dac346",
   "metadata": {},
   "source": [
    "There are 906 repeat purchased products from 1500 available in this data, which is a good indicator for the test to increase sales by selling more products repeatedly.\n",
    "\n",
    "![repeat_purchases](repeat_purchases.png)\n",
    "\n",
    "![repeat_purchases_pie](repeat_purchases_pie.png)\n",
    "\n",
    "The most common product category is Equipment. The next with almost the same number of repeat purchases are the categories of Medicine, Housing, Food, and Toys. Repeat purchases in the Equipment category are 3 times higher than in the Accessories category, which may indicate both a preference for buyers and an incorrect product category definition.\n",
    "\n",
    "![repeat_from_total](repeat_from_total.png)\n",
    "\n",
    "Repeat purchased products are 60.4% of all products. But let's see if repeat purchases increase sales."
   ]
  },
  {
   "cell_type": "markdown",
   "id": "ce5f6df2-fbf2-4c44-9209-9ee668876b53",
   "metadata": {},
   "source": [
    "## How are sales by single and repeat purchases?"
   ]
  },
  {
   "cell_type": "markdown",
   "id": "8fcff247-db49-42c0-8710-51848aeb6347",
   "metadata": {},
   "source": [
    "So we know that one-time purchased products have fewer parts of sales than repeat purchases. But when we see the box plot below, we can understand that the average sales of once-purchased products with a value of 1,028.37 USD are higher than the average sales of repurchased products with a value of 975.77 USD. This tells us that products being purchased again don't have better prices than others.\n",
    "\n",
    "![sales_distribution](sales_distribution.png)\n"
   ]
  },
  {
   "cell_type": "markdown",
   "id": "c5fbe3a0-d277-437c-a1a0-f1edf80684f7",
   "metadata": {},
   "source": [
    "## Do the products being purchased again increase sales?"
   ]
  },
  {
   "cell_type": "markdown",
   "id": "170dd2ea-340f-4ab4-94c8-fe077342e98e",
   "metadata": {},
   "source": [
    "The total sales of each product category look pretty expectably if remember Repeat purchased products from the total by category chart. As the company planned, sales increased by selling more repeat products. \n",
    "\n",
    "![total_sales](total_sales.png)\n",
    "\n",
    "Based on all of the above, we would recommend that the company focus on increasing the number of repeat purchases. However further analysis should be done to understand if repeat selling of everyday products does impact sales. "
   ]
  }
 ],
 "metadata": {
  "colab": {
   "name": "Welcome to DataCamp Workspaces.ipynb",
   "provenance": []
  },
  "kernelspec": {
   "display_name": "Python 3 (ipykernel)",
   "language": "python",
   "name": "python3"
  },
  "language_info": {
   "codemirror_mode": {
    "name": "ipython",
    "version": 3
   },
   "file_extension": ".py",
   "mimetype": "text/x-python",
   "name": "python",
   "nbconvert_exporter": "python",
   "pygments_lexer": "ipython3",
   "version": "3.9.7"
  }
 },
 "nbformat": 4,
 "nbformat_minor": 5
}
